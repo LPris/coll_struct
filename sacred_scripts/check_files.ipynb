{
 "cells": [
  {
   "cell_type": "markdown",
   "source": [
    "Retrieve info.json files"
   ],
   "metadata": {
    "collapsed": false
   }
  },
  {
   "cell_type": "code",
   "execution_count": null,
   "outputs": [],
   "source": [
    "import os\n",
    "import glob\n",
    "\n",
    "sacred_dir = \"sacred_cluster\"\n",
    "parent_dir = os.path.dirname(os.getcwd())\n",
    "info_json_files = glob.glob(\n",
    "    os.path.join(parent_dir, sacred_dir, \"**/*info.json\"), recursive=True)\n",
    "print(len(info_json_files))"
   ],
   "metadata": {
    "collapsed": false
   }
  },
  {
   "cell_type": "markdown",
   "source": [
    "Check if file can be opened, is not empty and experiment  reached at least 2millions time steps."
   ],
   "metadata": {
    "collapsed": false
   }
  },
  {
   "cell_type": "code",
   "execution_count": null,
   "outputs": [],
   "source": [
    "import sys\n",
    "import json\n",
    "original_stdout = sys.stdout # Save a reference to the original standard output\n",
    "with open('remove_command.txt', 'w') as f:\n",
    "    sys.stdout = f # Change the standard output to the file we created.\n",
    "    for i in info_json_files:\n",
    "        try:\n",
    "            with open(i, \"r\") as file:\n",
    "                infos = json.load(file)\n",
    "                if (len(infos.keys()) == 0):\n",
    "                    print(\"empty  dict\", i)\n",
    "                if infos[\"test_return_mean_T\"][-1] < 2000000:\n",
    "                    # print(\"not long enough\")\n",
    "                    # print(i)\n",
    "                    # print(infos[\"test_return_mean_T\"][-1])\n",
    "                    print(\"rm -r \" + str(os.path.basename(os.path.dirname(i))))\n",
    "                    print(\"rm -r models/\"+str(os.path.basename(os.path.dirname(i))))\n",
    "                    print(\"rm -r tb_logs/\"+str(os.path.basename(os.path.dirname(i))))\n",
    "                    print(\"rm -r sacred/\"+str(os.path.basename(os.path.dirname(i))))\n",
    "\n",
    "        except Exception as e:\n",
    "            # print(\"Error\")\n",
    "            # print(e)\n",
    "            # print(i)\n",
    "            print(\"rm -r \" + str(os.path.basename(os.path.dirname(i))))\n",
    "            print(\"rm -r models/\"+str(os.path.basename(os.path.dirname(i))))\n",
    "            print(\"rm -r tb_logs/\"+str(os.path.basename(os.path.dirname(i))))\n",
    "            print(\"rm -r sacred/\"+str(os.path.basename(os.path.dirname(i))))\n",
    "    sys.stdout = original_stdout # Reset the standard output to its original value\n",
    "\n"
   ],
   "metadata": {
    "collapsed": false
   }
  },
  {
   "cell_type": "markdown",
   "source": [
    "Count the number of each experiment"
   ],
   "metadata": {
    "collapsed": false
   }
  },
  {
   "cell_type": "code",
   "execution_count": null,
   "outputs": [],
   "source": [
    "dict_n_exp = {}\n",
    "for i in info_json_files:\n",
    "    exp_name = os.path.basename(os.path.dirname(i))\n",
    "    exp_name = exp_name.split(\"_\")\n",
    "    exp_name = [exp_name[0], exp_name[4], exp_name[5]]\n",
    "    exp_name = \"_\".join(exp_name)\n",
    "    dict_n_exp[exp_name] = dict_n_exp.get(exp_name, 0) + 1\n",
    "\n",
    "for k, v in dict_n_exp.items():\n",
    "    print(k, v)"
   ],
   "metadata": {
    "collapsed": false
   }
  },
  {
   "cell_type": "code",
   "execution_count": null,
   "outputs": [],
   "source": [
    "#Check missing experiments\n",
    "methods = [\"qmix\", \"qvmix\", \"ddmac\", \"coma\", \"iql\"] # \"dqn\"\n",
    "env1 = [\"uc\", \"c\"]\n",
    "env2 = [3, 5, 7, 9, 10]#, 50]#, 100]\n",
    "n_exp_desired = 10\n",
    "\n",
    "remaining_exp = {\"_\".join([method, env1_, str(env2_)]): n_exp_desired for\n",
    "                 method in methods for env1_ in env1 for env2_ in env2}\n",
    "for k, v in remaining_exp.items():\n",
    "    try:\n",
    "        remaining_exp[k] -= dict_n_exp[k]\n",
    "    except Exception as e:\n",
    "        print(k,  type(e), e)\n",
    "\n",
    "list_remaining = []\n",
    "for k, v in remaining_exp.items():\n",
    "    if v != 0:\n",
    "        if v < 0:\n",
    "            print(\"{}: Too much ({})\".format(k, v))\n",
    "        else:\n",
    "            print(\"{} Need {} more\".format(k, v))\n",
    "            list_remaining.append((k,v))\n"
   ],
   "metadata": {
    "collapsed": false
   }
  },
  {
   "cell_type": "code",
   "execution_count": null,
   "outputs": [],
   "source": [
    "for i in list_remaining:\n",
    "    exp = i[0].split(\"_\")\n",
    "    method = exp[0]\n",
    "    env1 = exp[1]\n",
    "    env2 = exp[2]\n",
    "    if int(env2) <= 10:\n",
    "        method_n = 10\n",
    "    else:\n",
    "        method_n=env2\n",
    "    print(\"sbatch --array=1-\"+str(i[1])+\" launch.sbatch \"+method+\"_uc_\"+str(method_n)+\" struct_\"+env1+\"_\"+str(env2))"
   ],
   "metadata": {
    "collapsed": false
   }
  },
  {
   "cell_type": "code",
   "execution_count": null,
   "outputs": [],
   "source": [],
   "metadata": {
    "collapsed": false
   }
  }
 ],
 "metadata": {
  "kernelspec": {
   "display_name": "Python 3",
   "language": "python",
   "name": "python3"
  },
  "language_info": {
   "codemirror_mode": {
    "name": "ipython",
    "version": 2
   },
   "file_extension": ".py",
   "mimetype": "text/x-python",
   "name": "python",
   "nbconvert_exporter": "python",
   "pygments_lexer": "ipython2",
   "version": "2.7.6"
  }
 },
 "nbformat": 4,
 "nbformat_minor": 0
}
