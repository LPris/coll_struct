{
 "cells": [
  {
   "cell_type": "markdown",
   "source": [
    "Retrieve info.json files"
   ],
   "metadata": {
    "collapsed": false
   }
  },
  {
   "cell_type": "code",
   "execution_count": 2,
   "outputs": [
    {
     "name": "stdout",
     "output_type": "stream",
     "text": [
      "215\n"
     ]
    }
   ],
   "source": [
    "import os\n",
    "import glob\n",
    "\n",
    "sacred_dir = \"sacred_cluster\"\n",
    "parent_dir = os.path.dirname(os.getcwd())\n",
    "info_json_files = glob.glob(os.path.join(parent_dir,sacred_dir, \"**/*info.json\"), recursive=True)\n",
    "print(len(info_json_files))"
   ],
   "metadata": {
    "collapsed": false
   }
  },
  {
   "cell_type": "markdown",
   "source": [
    "Check if file can be opened, is not empty and experiment  reached at least 2millions time steps."
   ],
   "metadata": {
    "collapsed": false
   }
  },
  {
   "cell_type": "code",
   "execution_count": 4,
   "outputs": [
    {
     "name": "stdout",
     "output_type": "stream",
     "text": [
      "rm -r ddmac_uc_50_struct_uc_50_3__2022-11-01_12-20-17\n",
      "rm -r qmix_uc_10_struct_c_10_1__2022-11-02_14-26-56\n",
      "rm -r ddmac_uc_50_struct_uc_50_10__2022-11-01_12-20-17\n",
      "rm -r ddmac_uc_50_struct_uc_50_5__2022-11-01_12-20-17\n",
      "rm -r ddmac_uc_50_struct_uc_50_1__2022-11-01_12-20-17\n"
     ]
    }
   ],
   "source": [
    "import json\n",
    "for i in info_json_files:\n",
    "    try:\n",
    "        with open(i, \"r\") as file:\n",
    "            infos = json.load(file)\n",
    "            if(len(infos.keys())==0):\n",
    "                print(\"empty  dict\", i)\n",
    "            if infos[\"test_return_mean_T\"][-1] < 2000000:\n",
    "                # print(\"not long enough\")\n",
    "                # print(i)\n",
    "                # print(infos[\"test_return_mean_T\"][-1])\n",
    "                print(\"rm -r \"+str(os.path.basename(os.path.dirname(i))))\n",
    "\n",
    "    except Exception as e:\n",
    "        print(\"Error\")\n",
    "        print(e)\n",
    "        print(i)\n",
    "        print(\"rm -r \"+str(os.path.basename(os.path.dirname(i))))\n",
    "        # print(\"rm -r models/\"+str(os.path.basename(os.path.dirname(i))))\n",
    "        # print(\"rm -r tb_logs/\"+str(os.path.basename(os.path.dirname(i))))\n",
    "        # print(\"rm -r sacred/\"+str(os.path.basename(os.path.dirname(i))))\n"
   ],
   "metadata": {
    "collapsed": false
   }
  },
  {
   "cell_type": "markdown",
   "source": [
    "Count the number of each experiment"
   ],
   "metadata": {
    "collapsed": false
   }
  },
  {
   "cell_type": "code",
   "execution_count": 3,
   "outputs": [
    {
     "name": "stdout",
     "output_type": "stream",
     "text": [
      "qmix_uc_9 10\n",
      "qmix_uc_3 10\n",
      "ddmac_uc_10 10\n",
      "ddmac_uc_50 6\n",
      "qmix_uc_7 10\n",
      "qmix_uc_10 11\n",
      "ddmac_uc_5 10\n",
      "qvmix_uc_7 10\n",
      "qvmix_uc_5 10\n",
      "ddmac_uc_7 10\n",
      "ddmac_c_10 19\n",
      "qmix_c_10 8\n",
      "qvmix_uc_10 10\n",
      "qvmix_uc_50 10\n",
      "qvmix_uc_9 10\n",
      "qmix_uc_5 10\n",
      "qvmix_uc_3 10\n",
      "qvmix_c_10 10\n",
      "qmix_uc_50 11\n",
      "ddmac_uc_3 10\n",
      "ddmac_uc_9 10\n"
     ]
    }
   ],
   "source": [
    "dict_exp={}\n",
    "for i in  info_json_files:\n",
    "    exp_name = os.path.basename(os.path.dirname(i))\n",
    "    exp_name=exp_name.split(\"_\")\n",
    "    exp_name=[exp_name[0], exp_name[4], exp_name[5]]\n",
    "    exp_name = \"_\".join(exp_name)\n",
    "    dict_exp[exp_name] = dict_exp.get(exp_name, 0) + 1\n",
    "\n",
    "for k, v in dict_exp.items():\n",
    "    print(k, v)"
   ],
   "metadata": {
    "collapsed": false
   }
  }
 ],
 "metadata": {
  "kernelspec": {
   "display_name": "Python 3",
   "language": "python",
   "name": "python3"
  },
  "language_info": {
   "codemirror_mode": {
    "name": "ipython",
    "version": 2
   },
   "file_extension": ".py",
   "mimetype": "text/x-python",
   "name": "python",
   "nbconvert_exporter": "python",
   "pygments_lexer": "ipython2",
   "version": "2.7.6"
  }
 },
 "nbformat": 4,
 "nbformat_minor": 0
}
